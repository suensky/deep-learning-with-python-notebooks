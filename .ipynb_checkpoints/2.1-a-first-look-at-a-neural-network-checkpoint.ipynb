{
 "cells": [
  {
   "cell_type": "code",
   "execution_count": 46,
   "metadata": {},
   "outputs": [
    {
     "data": {
      "text/plain": [
       "'2.2.4'"
      ]
     },
     "execution_count": 46,
     "metadata": {},
     "output_type": "execute_result"
    }
   ],
   "source": [
    "import keras\n",
    "keras.__version__"
   ]
  },
  {
   "cell_type": "markdown",
   "metadata": {},
   "source": [
    "# A first look at a neural network\n",
    "\n",
    "This notebook contains the code samples found in Chapter 2, Section 1 of [Deep Learning with Python](https://www.manning.com/books/deep-learning-with-python?a_aid=keras&a_bid=76564dff). Note that the original text features far more content, in particular further explanations and figures: in this notebook, you will only find source code and related comments.\n",
    "\n",
    "----\n",
    "\n",
    "We will now take a look at a first concrete example of a neural network, which makes use of the Python library Keras to learn to classify \n",
    "hand-written digits. Unless you already have experience with Keras or similar libraries, you will not understand everything about this \n",
    "first example right away. You probably haven't even installed Keras yet. Don't worry, that is perfectly fine. In the next chapter, we will \n",
    "review each element in our example and explain them in detail. So don't worry if some steps seem arbitrary or look like magic to you! \n",
    "We've got to start somewhere.\n",
    "\n",
    "The problem we are trying to solve here is to classify grayscale images of handwritten digits (28 pixels by 28 pixels), into their 10 \n",
    "categories (0 to 9). The dataset we will use is the MNIST dataset, a classic dataset in the machine learning community, which has been \n",
    "around for almost as long as the field itself and has been very intensively studied. It's a set of 60,000 training images, plus 10,000 test \n",
    "images, assembled by the National Institute of Standards and Technology (the NIST in MNIST) in the 1980s. You can think of \"solving\" MNIST \n",
    "as the \"Hello World\" of deep learning -- it's what you do to verify that your algorithms are working as expected. As you become a machine \n",
    "learning practitioner, you will see MNIST come up over and over again, in scientific papers, blog posts, and so on."
   ]
  },
  {
   "cell_type": "markdown",
   "metadata": {},
   "source": [
    "The MNIST dataset comes pre-loaded in Keras, in the form of a set of four Numpy arrays:\n",
    "\n",
    "Before training, we will preprocess our data by reshaping it into the shape that the network expects, and scaling it so that all values are in \n",
    "the `[0, 1]` interval. Previously, our training images for instance were stored in an array of shape `(60000, 28, 28)` of type `uint8` with \n",
    "values in the `[0, 255]` interval. We transform it into a `float32` array of shape `(60000, 28 * 28)` with values between 0 and 1.\n",
    "\n",
    "We also need to categorically encode the labels, a step which we explain in chapter 3:"
   ]
  },
  {
   "cell_type": "code",
   "execution_count": 47,
   "metadata": {},
   "outputs": [],
   "source": [
    "from keras.datasets import mnist\n",
    "from keras.utils import to_categorical\n",
    "\n",
    "(train_images, train_labels), (test_images, test_labels) = mnist.load_data()\n",
    "\n",
    "train_images = train_images.reshape((60000, 28 * 28))\n",
    "train_images = train_images.astype('float32') / 255\n",
    "\n",
    "test_images = test_images.reshape((10000, 28 * 28))\n",
    "test_images = test_images.astype('float32') / 255\n",
    "\n",
    "train_labels = to_categorical(train_labels)\n",
    "test_labels = to_categorical(test_labels)"
   ]
  },
  {
   "cell_type": "code",
   "execution_count": 48,
   "metadata": {},
   "outputs": [],
   "source": [
    "from keras import models\n",
    "from keras import layers\n",
    "\n",
    "def buildModel(layer1, epochs = 5, batch_size = 128):\n",
    "    # default: layer1 = 512, layer2 = 10\n",
    "    network = models.Sequential()\n",
    "    network.add(layers.Dense(layer1, activation='relu', input_shape=(28 * 28,)))\n",
    "    network.add(layers.Dense(10, activation='softmax'))\n",
    "\n",
    "    network.compile(optimizer='rmsprop',\n",
    "                    loss='categorical_crossentropy',\n",
    "                    metrics=['accuracy'])\n",
    "\n",
    "    network.fit(train_images, train_labels, epochs = epochs, batch_size = batch_size)\n",
    "    \n",
    "    return network"
   ]
  },
  {
   "cell_type": "markdown",
   "metadata": {},
   "source": [
    "\n",
    "The core building block of neural networks is the \"layer\", a data-processing module which you can conceive as a \"filter\" for data. Some \n",
    "data comes in, and comes out in a more useful form. Precisely, layers extract _representations_ out of the data fed into them -- hopefully \n",
    "representations that are more meaningful for the problem at hand. Most of deep learning really consists of chaining together simple layers \n",
    "which will implement a form of progressive \"data distillation\". A deep learning model is like a sieve for data processing, made of a \n",
    "succession of increasingly refined data filters -- the \"layers\".\n",
    "\n",
    "Here our network consists of a sequence of two `Dense` layers, which are densely-connected (also called \"fully-connected\") neural layers. \n",
    "The second (and last) layer is a 10-way \"softmax\" layer, which means it will return an array of 10 probability scores (summing to 1). Each \n",
    "score will be the probability that the current digit image belongs to one of our 10 digit classes.\n",
    "\n",
    "To make our network ready for training, we need to pick three more things, as part of \"compilation\" step:\n",
    "\n",
    "* A loss function: the is how the network will be able to measure how good a job it is doing on its training data, and thus how it will be \n",
    "able to steer itself in the right direction.\n",
    "* An optimizer: this is the mechanism through which the network will update itself based on the data it sees and its loss function.\n",
    "* Metrics to monitor during training and testing. Here we will only care about accuracy (the fraction of the images that were correctly \n",
    "classified).\n",
    "\n",
    "The exact purpose of the loss function and the optimizer will be made clear throughout the next two chapters."
   ]
  },
  {
   "cell_type": "markdown",
   "metadata": {},
   "source": [
    "We are now ready to train our network, which in Keras is done via a call to the `fit` method of the network: \n",
    "we \"fit\" the model to its training data."
   ]
  },
  {
   "cell_type": "markdown",
   "metadata": {},
   "source": [
    "Two quantities are being displayed during training: the \"loss\" of the network over the training data, and the accuracy of the network over \n",
    "the training data.\n",
    "\n",
    "We quickly reach an accuracy of 0.989 (i.e. 98.9%) on the training data. Now let's check that our model performs well on the test set too:"
   ]
  },
  {
   "cell_type": "code",
   "execution_count": 49,
   "metadata": {},
   "outputs": [],
   "source": [
    "def evalModel(model):\n",
    "    return model.evaluate(test_images, test_labels)"
   ]
  },
  {
   "cell_type": "code",
   "execution_count": 50,
   "metadata": {},
   "outputs": [],
   "source": [
    "import random as rnd\n",
    "import matplotlib.pyplot as plt\n",
    "\n",
    "def makePrediction(model):\n",
    "    img_index = rnd.randint(1, len(test_images))\n",
    "    img_class = model.predict_classes(test_images[img_index].reshape((1, 784)))\n",
    "\n",
    "    plt.gray();\n",
    "    plt.imshow(test_images[img_index].reshape((28, 28)), cmap=plt.cm.binary)\n",
    "    plt.title(\"The number in the image is \" + str(img_class[0]))\n",
    "    plt.show()"
   ]
  },
  {
   "cell_type": "code",
   "execution_count": 52,
   "metadata": {},
   "outputs": [
    {
     "name": "stdout",
     "output_type": "stream",
     "text": [
      "Epoch 1/5\n",
      "60000/60000 [==============================] - 1s 25us/step - loss: 0.3839 - acc: 0.8979\n",
      "Epoch 2/5\n",
      "60000/60000 [==============================] - 1s 14us/step - loss: 0.1947 - acc: 0.9451\n",
      "Epoch 3/5\n",
      "60000/60000 [==============================] - 1s 13us/step - loss: 0.1502 - acc: 0.9572\n",
      "Epoch 4/5\n",
      "60000/60000 [==============================] - 1s 12us/step - loss: 0.1227 - acc: 0.9649\n",
      "Epoch 5/5\n",
      "60000/60000 [==============================] - 1s 12us/step - loss: 0.1042 - acc: 0.9705\n",
      "10000/10000 [==============================] - 0s 28us/step\n",
      "model64: accurary= 0.11090656538009644, loss= 0.9675\n",
      "Epoch 1/5\n",
      "60000/60000 [==============================] - 1s 21us/step - loss: 0.3267 - acc: 0.9088\n",
      "Epoch 2/5\n",
      "60000/60000 [==============================] - 1s 14us/step - loss: 0.1576 - acc: 0.9542\n",
      "Epoch 3/5\n",
      "60000/60000 [==============================] - 1s 14us/step - loss: 0.1139 - acc: 0.9666\n",
      "Epoch 4/5\n",
      "60000/60000 [==============================] - 1s 14us/step - loss: 0.0889 - acc: 0.9739\n",
      "Epoch 5/5\n",
      "60000/60000 [==============================] - 1s 14us/step - loss: 0.0718 - acc: 0.9787\n",
      "10000/10000 [==============================] - 0s 38us/step\n",
      "model128: accurary= 0.08413368848515675, loss= 0.9757\n",
      "Epoch 1/5\n",
      "60000/60000 [==============================] - 2s 28us/step - loss: 0.2884 - acc: 0.9189\n",
      "Epoch 2/5\n",
      "60000/60000 [==============================] - 1s 20us/step - loss: 0.1269 - acc: 0.9628\n",
      "Epoch 3/5\n",
      "60000/60000 [==============================] - 1s 22us/step - loss: 0.0857 - acc: 0.9746: 1s - los\n",
      "Epoch 4/5\n",
      "60000/60000 [==============================] - 1s 20us/step - loss: 0.0649 - acc: 0.9806\n",
      "Epoch 5/5\n",
      "60000/60000 [==============================] - 1s 23us/step - loss: 0.0505 - acc: 0.9854\n",
      "10000/10000 [==============================] - 0s 41us/step\n",
      "model256: accurary= 0.07276814495273866, loss= 0.9777\n",
      "Epoch 1/5\n",
      "60000/60000 [==============================] - 3s 45us/step - loss: 0.2555 - acc: 0.9255\n",
      "Epoch 2/5\n",
      "60000/60000 [==============================] - 2s 38us/step - loss: 0.1024 - acc: 0.9695\n",
      "Epoch 3/5\n",
      "60000/60000 [==============================] - 2s 39us/step - loss: 0.0686 - acc: 0.9792\n",
      "Epoch 4/5\n",
      "60000/60000 [==============================] - 2s 38us/step - loss: 0.0492 - acc: 0.9858\n",
      "Epoch 5/5\n",
      "60000/60000 [==============================] - 2s 38us/step - loss: 0.0367 - acc: 0.9886\n",
      "10000/10000 [==============================] - 0s 45us/step\n",
      "model512: accurary= 0.06536220307040494, loss= 0.9794\n",
      "Epoch 1/5\n",
      "60000/60000 [==============================] - 5s 75us/step - loss: 0.2339 - acc: 0.9305\n",
      "Epoch 2/5\n",
      "60000/60000 [==============================] - 4s 69us/step - loss: 0.0886 - acc: 0.9737\n",
      "Epoch 3/5\n",
      "60000/60000 [==============================] - 4s 69us/step - loss: 0.0574 - acc: 0.9823\n",
      "Epoch 4/5\n",
      "60000/60000 [==============================] - 4s 69us/step - loss: 0.0405 - acc: 0.9880\n",
      "Epoch 5/5\n",
      "60000/60000 [==============================] - 4s 69us/step - loss: 0.0296 - acc: 0.9906\n",
      "10000/10000 [==============================] - 1s 56us/step\n",
      "model1024: accurary= 0.0644705778727075, loss= 0.981\n"
     ]
    }
   ],
   "source": [
    "for power in range(6, 11):\n",
    "    layer = 2 ** power\n",
    "    model = buildModel(layer)\n",
    "    evalResult = evalModel(model)\n",
    "    print('model{0}: accurary= {}, loss= {}'.format(layer, evalResult[1], evalResult[0]))"
   ]
  },
  {
   "cell_type": "markdown",
   "metadata": {},
   "source": [
    "\n",
    "Our test set accuracy turns out to be 97.8% -- that's quite a bit lower than the training set accuracy. \n",
    "This gap between training accuracy and test accuracy is an example of \"overfitting\", \n",
    "the fact that machine learning models tend to perform worse on new data than on their training data. \n",
    "Overfitting will be a central topic in chapter 3.\n",
    "\n",
    "This concludes our very first example -- you just saw how we could build and a train a neural network to classify handwritten digits, in \n",
    "less than 20 lines of Python code. In the next chapter, we will go in detail over every moving piece we just previewed, and clarify what is really \n",
    "going on behind the scenes. You will learn about \"tensors\", the data-storing objects going into the network, about tensor operations, which \n",
    "layers are made of, and about gradient descent, which allows our network to learn from its training examples."
   ]
  }
 ],
 "metadata": {
  "kernelspec": {
   "display_name": "Python 3",
   "language": "python",
   "name": "python3"
  },
  "language_info": {
   "codemirror_mode": {
    "name": "ipython",
    "version": 3
   },
   "file_extension": ".py",
   "mimetype": "text/x-python",
   "name": "python",
   "nbconvert_exporter": "python",
   "pygments_lexer": "ipython3",
   "version": "3.6.6"
  }
 },
 "nbformat": 4,
 "nbformat_minor": 2
}
